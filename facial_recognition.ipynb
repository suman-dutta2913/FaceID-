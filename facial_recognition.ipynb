{
 "cells": [
  {
   "cell_type": "markdown",
   "id": "f177ee65-57b3-4a50-9a8f-63d566e41fc7",
   "metadata": {},
   "source": [
    "# Importing all important libraries"
   ]
  },
  {
   "cell_type": "code",
   "execution_count": 2,
   "id": "a07b52cf-2a37-4992-a4c4-e0fbf540681d",
   "metadata": {},
   "outputs": [
    {
     "name": "stdout",
     "output_type": "stream",
     "text": [
      "WARNING:tensorflow:From C:\\Users\\lenovo\\anaconda3\\Lib\\site-packages\\keras\\src\\losses.py:2976: The name tf.losses.sparse_softmax_cross_entropy is deprecated. Please use tf.compat.v1.losses.sparse_softmax_cross_entropy instead.\n",
      "\n"
     ]
    }
   ],
   "source": [
    "import cv2\n",
    "import os\n",
    "import random\n",
    "import numpy as np\n",
    "from matplotlib import pyplot as plt\n",
    "from tensorflow.keras.models import Model\n",
    "from tensorflow.keras.layers import Layer,Conv2D, Dense, MaxPooling2D, Input, Flatten\n",
    "import tensorflow as tf"
   ]
  },
  {
   "cell_type": "markdown",
   "id": "52c5f966-8b49-4997-96bb-61c91a0dec9a",
   "metadata": {},
   "source": [
    "# Creating special directories and collecting sample images using webcam "
   ]
  },
  {
   "cell_type": "code",
   "execution_count": 4,
   "id": "5e5ba356-9f4a-47c8-9685-bcee867be119",
   "metadata": {},
   "outputs": [],
   "source": [
    "POS_PATH=os.path.join('training','positive')\n",
    "NEG_PATH = os.path.join ('training','negative')\n",
    "FLAG_PATH = os.path.join('training','flag')"
   ]
  },
  {
   "cell_type": "code",
   "execution_count": 5,
   "id": "e813f1d6-a259-49d9-8d49-9f2ffc23e74d",
   "metadata": {},
   "outputs": [],
   "source": [
    "os.makedirs(POS_PATH)\n",
    "os.makedirs(NEG_PATH)\n",
    "os.makedirs(FLAG_PATH)"
   ]
  },
  {
   "cell_type": "code",
   "execution_count": 6,
   "id": "3091d7c4-dd52-483c-a1fa-5cd435b6c735",
   "metadata": {},
   "outputs": [],
   "source": [
    "import uuid"
   ]
  },
  {
   "cell_type": "code",
   "execution_count": 7,
   "id": "13b6d8d5-8909-401d-a4b5-211de1d2873a",
   "metadata": {},
   "outputs": [],
   "source": [
    "#move lfw images to negative folder\n",
    "for directory in os.listdir('lfw'):\n",
    "   for file in os.listdir(os.path.join('lfw',directory)):\n",
    "        EX_PATH = os.path.join('lfw',directory,file)\n",
    "        NEW_PATH=os.path.join(NEG_PATH,file)\n",
    "        os.replace(EX_PATH,NEW_PATH)"
   ]
  },
  {
   "cell_type": "code",
   "execution_count": 21,
   "id": "7e477905-e7ad-4b57-9b54-74deaa55f041",
   "metadata": {},
   "outputs": [],
   "source": [
    "cap = cv2.VideoCapture(0)#Establish a connection to the webcam\n",
    "while cap.isOpened():\n",
    "    ret,frame =cap.read()\n",
    "    frame = frame[120:120+250,320:320+250,:]\n",
    "    #collect anchors\n",
    "    if cv2.waitKey(1) & 0XFF==ord('f'):\n",
    "        imgname = os.path.join(FLAG_PATH,'{}.jpg'.format(uuid.uuid1()))\n",
    "        cv2.imwrite(imgname,frame)\n",
    "    #collect positives\n",
    "    if cv2.waitKey(1) & 0XFF==ord('p'):\n",
    "        imgname = os.path.join(POS_PATH,'{}.jpg'.format(uuid.uuid1()))\n",
    "        cv2.imwrite(imgname,frame)\n",
    "        \n",
    "    \n",
    "    cv2.imshow('Image Collection',frame)\n",
    "    if cv2.waitKey(1) & 0XFF==ord('q'):\n",
    "        break\n",
    "#release webcam\n",
    "cap.release()\n",
    "cv2.destroyAllWindows()"
   ]
  },
  {
   "cell_type": "code",
   "execution_count": 12,
   "id": "9ad6b42d-5a30-4c0b-a8ea-0a6b8e37db02",
   "metadata": {},
   "outputs": [],
   "source": [
    "from shutil import move"
   ]
  },
  {
   "cell_type": "markdown",
   "id": "e2f08b70-a410-45d2-93b3-911ffc0071c6",
   "metadata": {},
   "source": [
    "# Shuffling all images in respective directories"
   ]
  },
  {
   "cell_type": "code",
   "execution_count": 22,
   "id": "2560b865-2deb-47b5-bdc9-3f486a7b7000",
   "metadata": {},
   "outputs": [],
   "source": [
    "import os\n",
    "import random\n",
    "from shutil import move\n",
    "\n",
    "POS_PATH = os.path.join('training', 'positive')\n",
    "\n",
    "def shuffle_images(directory_path):\n",
    "    # Step 1: List images in the directory\n",
    "    image_files = [f for f in os.listdir(directory_path) if os.path.isfile(os.path.join(directory_path, f))]\n",
    "\n",
    "    # Step 2: Shuffle the list of image files\n",
    "    random.shuffle(image_files)\n",
    "\n",
    "    # Step 3: Rename and move the shuffled images\n",
    "    for i, old_name in enumerate(image_files):\n",
    "        new_name = f\"shuffled_{i + 1}.jpg\"  # Rename as needed\n",
    "        old_path = os.path.join(directory_path, old_name)\n",
    "        new_path = os.path.join(directory_path, new_name)\n",
    "        move(old_path, new_path)\n",
    "\n",
    "# Shuffle images in the POS_PATH directory\n",
    "shuffle_images(POS_PATH)\n",
    "\n",
    "\n",
    "    "
   ]
  },
  {
   "cell_type": "code",
   "execution_count": 20,
   "id": "003e70cd-8343-42ad-8685-c8676461f790",
   "metadata": {},
   "outputs": [],
   "source": [
    "FLAG_PATH = os.path.join('training', 'flag')\n",
    "\n",
    "def shuffle_images(directory_path):\n",
    "    # Step 1: List images in the directory\n",
    "    image_files = [f for f in os.listdir(directory_path) if os.path.isfile(os.path.join(directory_path, f))]\n",
    "\n",
    "    # Step 2: Shuffle the list of image files\n",
    "    random.shuffle(image_files)\n",
    "\n",
    "    # Step 3: Rename and move the shuffled images\n",
    "    for i, old_name in enumerate(image_files):\n",
    "        new_name = f\"rearranged_{i + 1}.jpg\"  # Rename as needed\n",
    "        old_path = os.path.join(directory_path, old_name)\n",
    "        new_path = os.path.join(directory_path, new_name)\n",
    "        move(old_path, new_path)\n",
    "\n",
    "# Shuffle images in the POS_PATH directory\n",
    "shuffle_images(FLAG_PATH)"
   ]
  },
  {
   "cell_type": "markdown",
   "id": "f964d7ca-12c3-47b9-b534-f2b2ee17d8e5",
   "metadata": {},
   "source": [
    "# Taking 450 images from each directory for training"
   ]
  },
  {
   "cell_type": "code",
   "execution_count": 23,
   "id": "1737bc88-f2e0-48d0-91a6-98d2c15aefa9",
   "metadata": {},
   "outputs": [],
   "source": [
    "flag =tf.data.Dataset.list_files(ANC_PATH+'\\*.jpg').take(450)\n",
    "positive =tf.data.Dataset.list_files(POS_PATH+'\\*.jpg').take(450)\n",
    "negative = tf.data.Dataset.list_files(NEG_PATH+'\\*.jpg').take(450)"
   ]
  },
  {
   "cell_type": "code",
   "execution_count": 25,
   "id": "750d8c8b-3cb9-44a0-bf30-f123ce791caf",
   "metadata": {},
   "outputs": [],
   "source": [
    "dir_test=flag.as_numpy_iterator()\n"
   ]
  },
  {
   "cell_type": "markdown",
   "id": "4bc95b40-d8f5-40e9-8b37-46a66b863ba5",
   "metadata": {},
   "source": [
    "# Defining the image preprocessing function"
   ]
  },
  {
   "cell_type": "code",
   "execution_count": 40,
   "id": "294abcc7-1201-4a66-a7fa-17c2dce6ba53",
   "metadata": {},
   "outputs": [],
   "source": [
    "def preprocess(file_path):\n",
    "    #Read in image from file path\n",
    "    byte_img=tf.io.read_file(file_path)\n",
    "    #load in the image\n",
    "    img = tf.io.decode_jpeg(byte_img)\n",
    "    #Preprocessing steps \n",
    "    img = tf.image.resize(img,(105,105))\n",
    "    img=img/255.0\n",
    "    return img"
   ]
  },
  {
   "cell_type": "code",
   "execution_count": 41,
   "id": "d0b1b3b3-79cd-4090-ac1e-061821b7534c",
   "metadata": {},
   "outputs": [],
   "source": [
    "positives= tf.data.Dataset.zip((flag,positive,tf.data.Dataset.from_tensor_slices(tf.ones(len(flag)))))\n",
    "negatives = tf.data.Dataset.zip((flag,negative,tf.data.Dataset.from_tensor_slices(tf.zeros(len(flag)))))\n",
    "data = positives.concatenate(negatives)"
   ]
  },
  {
   "cell_type": "code",
   "execution_count": 42,
   "id": "0533ae15-b44f-47e9-ac56-965b341983de",
   "metadata": {},
   "outputs": [],
   "source": [
    "def preprocess_twin(input_img,validation_img,label):\n",
    "    return (preprocess(input_img),preprocess(validation_img),label)"
   ]
  },
  {
   "cell_type": "code",
   "execution_count": 43,
   "id": "d3e1c244-bc08-47c8-8e3c-61ab096f3ccc",
   "metadata": {},
   "outputs": [],
   "source": [
    "sample =data.as_numpy_iterator().next()"
   ]
  },
  {
   "cell_type": "code",
   "execution_count": 44,
   "id": "f5ce9559-619c-4b3c-8171-85f1bc9e9035",
   "metadata": {},
   "outputs": [],
   "source": [
    "res=preprocess_twin(*sample)"
   ]
  },
  {
   "cell_type": "code",
   "execution_count": 45,
   "id": "bd1b80cc-359b-4a25-a0fc-12aa7df834a4",
   "metadata": {},
   "outputs": [
    {
     "data": {
      "text/plain": [
       "<matplotlib.image.AxesImage at 0x2517a367f50>"
      ]
     },
     "execution_count": 45,
     "metadata": {},
     "output_type": "execute_result"
    },
    {
     "data": {
      "image/png": "[encoded data removed]",
      "text/plain": [
       "<Figure size 640x480 with 1 Axes>"
      ]
     },
     "metadata": {},
     "output_type": "display_data"
    }
   ],
   "source": [
    "plt.imshow(res[1])"
   ]
  },
  {
   "cell_type": "code",
   "execution_count": 46,
   "id": "c45f24ba-1585-436e-a113-8895d01f6bec",
   "metadata": {},
   "outputs": [],
   "source": [
    "data = data.map(preprocess_twin)\n",
    "data = data.cache()\n",
    "data = data.shuffle(buffer_size=1024) \n"
   ]
  },
  {
   "cell_type": "code",
   "execution_count": 47,
   "id": "7dc17639-488c-46e2-9819-da709a407319",
   "metadata": {},
   "outputs": [
    {
     "data": {
      "text/plain": [
       "<_ShuffleDataset element_spec=(TensorSpec(shape=(105, 105, None), dtype=tf.float32, name=None), TensorSpec(shape=(105, 105, None), dtype=tf.float32, name=None), TensorSpec(shape=(), dtype=tf.float32, name=None))>"
      ]
     },
     "execution_count": 47,
     "metadata": {},
     "output_type": "execute_result"
    }
   ],
   "source": [
    "data"
   ]
  },
  {
   "cell_type": "markdown",
   "id": "f2524f18-d914-441c-a635-807d1722a5e6",
   "metadata": {},
   "source": [
    "# splitting the images into training and testing dataset"
   ]
  },
  {
   "cell_type": "code",
   "execution_count": 48,
   "id": "8c9bf696-ff1e-4976-8d19-e5b9ba80a2f5",
   "metadata": {},
   "outputs": [],
   "source": [
    "train_data = data.take(round(len(data)*.7))\n",
    "train_data = train_data.batch(16)\n",
    "train_data = train_data.prefetch(8)"
   ]
  },
  {
   "cell_type": "code",
   "execution_count": 49,
   "id": "30543bc6-e6e9-47d2-9536-a97e39c600b8",
   "metadata": {},
   "outputs": [],
   "source": [
    "# Calculate the number of samples to skip and take\n",
    "skip_count = int(round(len(data) * 0.7))\n",
    "take_count = int(round(len(data) * 0.3))\n",
    "\n",
    "# Create the testing dataset\n",
    "test_data = data.skip(skip_count)\n",
    "test_data = test_data.take(take_count)\n",
    "test_data = test_data.batch(16)\n",
    "test_data = test_data.prefetch(8)\n"
   ]
  },
  {
   "cell_type": "markdown",
   "id": "d952d11b-d072-40d6-8ef6-0502a2d60085",
   "metadata": {},
   "source": [
    "# Building the Convolutional Neural Network"
   ]
  },
  {
   "cell_type": "code",
   "execution_count": 51,
   "id": "e73327f8-5c0d-4b3e-8679-c3fd698e258c",
   "metadata": {},
   "outputs": [],
   "source": [
    "from tensorflow.keras.layers import Input, Conv2D, MaxPooling2D, Flatten, Dense, BatchNormalization, Dropout\n",
    "from tensorflow.keras.models import Model\n",
    "\n",
    "def make_embedding():\n",
    "    inp = Input(shape=(105, 105, 3), name='input_image')\n",
    "\n",
    "    c1 = Conv2D(64, (10, 10), activation='relu')(inp)\n",
    "    c1 = BatchNormalization()(c1)\n",
    "    m1 = MaxPooling2D((2, 2), padding='same')(c1)\n",
    "\n",
    "    c2 = Conv2D(128, (7, 7), activation='relu')(m1)\n",
    "    c2 = BatchNormalization()(c2)\n",
    "    m2 = MaxPooling2D((2, 2), padding='same')(c2)\n",
    "\n",
    "    c3 = Conv2D(128, (4, 4), activation='relu')(m2)\n",
    "    c3 = BatchNormalization()(c3)\n",
    "    m3 = MaxPooling2D((2, 2), padding='same')(c3)\n",
    "\n",
    "    c4 = Conv2D(256, (4, 4), activation='relu')(m3)\n",
    "    c4 = BatchNormalization()(c4)\n",
    "    m4 = MaxPooling2D((2, 2), padding='same')(c4)\n",
    "\n",
    "    f1 = Flatten()(m4)\n",
    "    d1 = Dense(4096, activation='relu')(f1)\n",
    "    d1 = Dropout(0.5)(d1)  # Adding Dropout for regularization\n",
    "\n",
    "    return Model(inputs=[inp], outputs=[d1], name='embedding')\n"
   ]
  },
  {
   "cell_type": "code",
   "execution_count": 52,
   "id": "6cef1dd0-cb31-483d-97a0-97b88f6451f7",
   "metadata": {},
   "outputs": [
    {
     "name": "stdout",
     "output_type": "stream",
     "text": [
      "WARNING:tensorflow:From C:\\Users\\lenovo\\anaconda3\\Lib\\site-packages\\keras\\src\\backend.py:1398: The name tf.executing_eagerly_outside_functions is deprecated. Please use tf.compat.v1.executing_eagerly_outside_functions instead.\n",
      "\n",
      "WARNING:tensorflow:From C:\\Users\\lenovo\\anaconda3\\Lib\\site-packages\\keras\\src\\layers\\normalization\\batch_normalization.py:979: The name tf.nn.fused_batch_norm is deprecated. Please use tf.compat.v1.nn.fused_batch_norm instead.\n",
      "\n"
     ]
    }
   ],
   "source": [
    "embedding= make_embedding()"
   ]
  },
  {
   "cell_type": "code",
   "execution_count": 53,
   "id": "e9f3c47e-ad78-44f4-935b-ceb78391bfb5",
   "metadata": {},
   "outputs": [
    {
     "name": "stdout",
     "output_type": "stream",
     "text": [
      "Model: \"embedding\"\n",
      "_________________________________________________________________\n",
      " Layer (type)                Output Shape              Param #   \n",
      "=================================================================\n",
      " input_image (InputLayer)    [(None, 105, 105, 3)]     0         \n",
      "                                                                 \n",
      " conv2d (Conv2D)             (None, 96, 96, 64)        19264     \n",
      "                                                                 \n",
      " batch_normalization (Batch  (None, 96, 96, 64)        256       \n",
      " Normalization)                                                  \n",
      "                                                                 \n",
      " max_pooling2d (MaxPooling2  (None, 48, 48, 64)        0         \n",
      " D)                                                              \n",
      "                                                                 \n",
      " conv2d_1 (Conv2D)           (None, 42, 42, 128)       401536    \n",
      "                                                                 \n",
      " batch_normalization_1 (Bat  (None, 42, 42, 128)       512       \n",
      " chNormalization)                                                \n",
      "                                                                 \n",
      " max_pooling2d_1 (MaxPoolin  (None, 21, 21, 128)       0         \n",
      " g2D)                                                            \n",
      "                                                                 \n",
      " conv2d_2 (Conv2D)           (None, 18, 18, 128)       262272    \n",
      "                                                                 \n",
      " batch_normalization_2 (Bat  (None, 18, 18, 128)       512       \n",
      " chNormalization)                                                \n",
      "                                                                 \n",
      " max_pooling2d_2 (MaxPoolin  (None, 9, 9, 128)         0         \n",
      " g2D)                                                            \n",
      "                                                                 \n",
      " conv2d_3 (Conv2D)           (None, 6, 6, 256)         524544    \n",
      "                                                                 \n",
      " batch_normalization_3 (Bat  (None, 6, 6, 256)         1024      \n",
      " chNormalization)                                                \n",
      "                                                                 \n",
      " max_pooling2d_3 (MaxPoolin  (None, 3, 3, 256)         0         \n",
      " g2D)                                                            \n",
      "                                                                 \n",
      " flatten (Flatten)           (None, 2304)              0         \n",
      "                                                                 \n",
      " dense (Dense)               (None, 4096)              9441280   \n",
      "                                                                 \n",
      " dropout (Dropout)           (None, 4096)              0         \n",
      "                                                                 \n",
      "=================================================================\n",
      "Total params: 10651200 (40.63 MB)\n",
      "Trainable params: 10650048 (40.63 MB)\n",
      "Non-trainable params: 1152 (4.50 KB)\n",
      "_________________________________________________________________\n"
     ]
    }
   ],
   "source": [
    "embedding.summary()"
   ]
  },
  {
   "cell_type": "code",
   "execution_count": 54,
   "id": "121dfec4-45c1-4537-b4a9-f780cb06a74e",
   "metadata": {},
   "outputs": [],
   "source": [
    "class Dist_Layer(Layer):\n",
    "    def __init__(self,**kwargs):\n",
    "        super().__init__()\n",
    "    def call(self,input_embedding, validation_embedding):\n",
    "        return tf.math.abs(input_embedding - validation_embedding)"
   ]
  },
  {
   "cell_type": "code",
   "execution_count": 55,
   "id": "9d8bb28b-dbc5-40d2-b896-972d8de9f938",
   "metadata": {},
   "outputs": [],
   "source": [
    "l1=Dist_Layer()"
   ]
  },
  {
   "cell_type": "code",
   "execution_count": 56,
   "id": "e8acb631-6f01-4ade-8b9c-94ff6f5a0453",
   "metadata": {},
   "outputs": [
    {
     "data": {
      "text/plain": [
       "<__main__.Dist_Layer at 0x2517a5b67d0>"
      ]
     },
     "execution_count": 56,
     "metadata": {},
     "output_type": "execute_result"
    }
   ],
   "source": [
    "l1"
   ]
  },
  {
   "cell_type": "code",
   "execution_count": 78,
   "id": "1c381936-4bad-4393-a6eb-e80f92e1286a",
   "metadata": {},
   "outputs": [],
   "source": [
    "def make_recognition_model():\n",
    "    #Anchor image network\n",
    "    input_image = Input(name='input_img', shape=(105,105,3))\n",
    "    #validation image\n",
    "    validation_image = Input(name='validation_img',shape=(105,105,3))\n",
    "    #combine\n",
    "    siamese_layer=Dist_Layer()\n",
    "    siamese_layer._name = 'distance'\n",
    "    distances = siamese_layer(embedding(input_image),embedding(validation_image))\n",
    "    #Classification\n",
    "    classifier = Dense(1,activation='sigmoid')(distances)\n",
    "    return Model(inputs=[input_image,validation_image],outputs=classifier, name='FACEID')"
   ]
  },
  {
   "cell_type": "code",
   "execution_count": 79,
   "id": "f2629a36-9eb7-4457-9994-8f0aacd0c8ab",
   "metadata": {},
   "outputs": [],
   "source": [
    "recognition_model = make_recognition_model()"
   ]
  },
  {
   "cell_type": "code",
   "execution_count": 80,
   "id": "fa1ab9c5-e9f1-4c00-8fc0-5cbe5558c6fc",
   "metadata": {},
   "outputs": [
    {
     "name": "stdout",
     "output_type": "stream",
     "text": [
      "Model: \"FACEID\"\n",
      "__________________________________________________________________________________________________\n",
      " Layer (type)                Output Shape                 Param #   Connected to                  \n",
      "==================================================================================================\n",
      " input_img (InputLayer)      [(None, 105, 105, 3)]        0         []                            \n",
      "                                                                                                  \n",
      " validation_img (InputLayer  [(None, 105, 105, 3)]        0         []                            \n",
      " )                                                                                                \n",
      "                                                                                                  \n",
      " embedding (Functional)      (None, 4096)                 1065120   ['input_img[0][0]',           \n",
      "                                                          0          'validation_img[0][0]']      \n",
      "                                                                                                  \n",
      " distance (Dist_Layer)       (None, 4096)                 0         ['embedding[6][0]',           \n",
      "                                                                     'embedding[7][0]']           \n",
      "                                                                                                  \n",
      " dense_4 (Dense)             (None, 1)                    4097      ['distance[0][0]']            \n",
      "                                                                                                  \n",
      "==================================================================================================\n",
      "Total params: 10655297 (40.65 MB)\n",
      "Trainable params: 10654145 (40.64 MB)\n",
      "Non-trainable params: 1152 (4.50 KB)\n",
      "__________________________________________________________________________________________________\n"
     ]
    }
   ],
   "source": [
    "recognition_model.summary()"
   ]
  },
  {
   "cell_type": "code",
   "execution_count": 76,
   "id": "7a840dd0-a09b-4e71-9955-3f7780361137",
   "metadata": {},
   "outputs": [],
   "source": [
    "binary_cross_loss = tf.losses.BinaryCrossentropy()\n"
   ]
  },
  {
   "cell_type": "code",
   "execution_count": 77,
   "id": "350f68d6-d08b-4752-8391-eff061aaccab",
   "metadata": {},
   "outputs": [],
   "source": [
    "opt  = tf.keras.optimizers.Adam(1e-4)"
   ]
  },
  {
   "cell_type": "code",
   "execution_count": 81,
   "id": "6015ead3-be25-4e94-87b9-3ed3939e1a87",
   "metadata": {},
   "outputs": [],
   "source": [
    "checkpoint_dir = './training_checkpoints'\n",
    "checkpoint_prefix = os.path.join(checkpoint_dir , 'ckpt')\n",
    "checkpoint = tf.train.Checkpoint(opt=opt,recognition_model = recognition_model)"
   ]
  },
  {
   "cell_type": "code",
   "execution_count": 83,
   "id": "e365e837-0c42-4311-9db8-702fe70710a5",
   "metadata": {},
   "outputs": [],
   "source": [
    "@tf.function\n",
    "def train_step(batch):\n",
    "    with tf.GradientTape() as tape:\n",
    "        X = batch[:2]\n",
    "        y = batch[2]\n",
    "        yhat = recognition_model(X, training=True)\n",
    "        loss = binary_cross_loss(y, yhat)\n",
    "    print(loss)\n",
    "    grad = tape.gradient(loss, recognition_model.trainable_variables)\n",
    "    opt.apply_gradients(zip(grad, recognition_model.trainable_variables))\n",
    "    return loss\n"
   ]
  },
  {
   "cell_type": "markdown",
   "id": "871b35fa-c846-43f2-92ee-01ce51c77d24",
   "metadata": {},
   "source": [
    "# Building the training function"
   ]
  },
  {
   "cell_type": "code",
   "execution_count": 84,
   "id": "45938e87-69ac-46a0-b69d-a32a7ee4ade1",
   "metadata": {},
   "outputs": [],
   "source": [
    "def train(data,EPOCHS):\n",
    "    for epoch in range(1,EPOCHS+1):\n",
    "        print('\\n Epoch {}/{}'.format(epoch,EPOCHS))\n",
    "        progbar = tf.keras.utils.Progbar(len(data))\n",
    "        for idx,batch in enumerate(data):\n",
    "            train_step(batch)\n",
    "            progbar.update(idx+1)\n",
    "        if epoch %10==0:\n",
    "            checkpoint.save(file_prefix=checkpoint_prefix)"
   ]
  },
  {
   "cell_type": "code",
   "execution_count": 85,
   "id": "45ea8e80-01aa-4c89-85d5-27b8abde7728",
   "metadata": {},
   "outputs": [
    {
     "name": "stdout",
     "output_type": "stream",
     "text": [
      "\n",
      " Epoch 1/50\n",
      "Tensor(\"binary_crossentropy/weighted_loss/value:0\", shape=(), dtype=float32)\n",
      "Tensor(\"binary_crossentropy/weighted_loss/value:0\", shape=(), dtype=float32)\n",
      "39/40 [============================>.] - ETA: 0sTensor(\"binary_crossentropy/weighted_loss/value:0\", shape=(), dtype=float32)\n",
      "40/40 [==============================] - 41s 909ms/step\n",
      "\n",
      " Epoch 2/50\n",
      "40/40 [==============================] - 35s 867ms/step\n",
      "\n",
      " Epoch 3/50\n",
      "40/40 [==============================] - 34s 837ms/step\n",
      "\n",
      " Epoch 4/50\n",
      "40/40 [==============================] - 34s 850ms/step\n",
      "\n",
      " Epoch 5/50\n",
      "40/40 [==============================] - 41s 1s/step\n",
      "\n",
      " Epoch 6/50\n",
      "40/40 [==============================] - 38s 944ms/step\n",
      "\n",
      " Epoch 7/50\n",
      "40/40 [==============================] - 36s 899ms/step\n",
      "\n",
      " Epoch 8/50\n",
      "40/40 [==============================] - 34s 862ms/step\n",
      "\n",
      " Epoch 9/50\n",
      "40/40 [==============================] - 34s 844ms/step\n",
      "\n",
      " Epoch 10/50\n",
      "40/40 [==============================] - 38s 959ms/step\n",
      "\n",
      " Epoch 11/50\n",
      "40/40 [==============================] - 38s 958ms/step\n",
      "\n",
      " Epoch 12/50\n",
      "40/40 [==============================] - 34s 849ms/step\n",
      "\n",
      " Epoch 13/50\n",
      "40/40 [==============================] - 34s 845ms/step\n",
      "\n",
      " Epoch 14/50\n",
      "40/40 [==============================] - 34s 848ms/step\n",
      "\n",
      " Epoch 15/50\n",
      "40/40 [==============================] - 34s 845ms/step\n",
      "\n",
      " Epoch 16/50\n",
      "40/40 [==============================] - 34s 846ms/step\n",
      "\n",
      " Epoch 17/50\n",
      "40/40 [==============================] - 34s 852ms/step\n",
      "\n",
      " Epoch 18/50\n",
      "40/40 [==============================] - 35s 876ms/step\n",
      "\n",
      " Epoch 19/50\n",
      "40/40 [==============================] - 35s 871ms/step\n",
      "\n",
      " Epoch 20/50\n",
      "40/40 [==============================] - 41s 1s/step\n",
      "\n",
      " Epoch 21/50\n",
      "40/40 [==============================] - 36s 890ms/step\n",
      "\n",
      " Epoch 22/50\n",
      "40/40 [==============================] - 34s 838ms/step\n",
      "\n",
      " Epoch 23/50\n",
      "40/40 [==============================] - 34s 843ms/step\n",
      "\n",
      " Epoch 24/50\n",
      "40/40 [==============================] - 35s 876ms/step\n",
      "\n",
      " Epoch 25/50\n",
      "40/40 [==============================] - 34s 845ms/step\n",
      "\n",
      " Epoch 26/50\n",
      "40/40 [==============================] - 34s 850ms/step\n",
      "\n",
      " Epoch 27/50\n",
      "40/40 [==============================] - 34s 848ms/step\n",
      "\n",
      " Epoch 28/50\n",
      "40/40 [==============================] - 34s 850ms/step\n",
      "\n",
      " Epoch 29/50\n",
      "40/40 [==============================] - 34s 856ms/step\n",
      "\n",
      " Epoch 30/50\n",
      "40/40 [==============================] - 33s 827ms/step\n",
      "\n",
      " Epoch 31/50\n",
      "40/40 [==============================] - 33s 825ms/step\n",
      "\n",
      " Epoch 32/50\n",
      "40/40 [==============================] - 33s 830ms/step\n",
      "\n",
      " Epoch 33/50\n",
      "40/40 [==============================] - 33s 831ms/step\n",
      "\n",
      " Epoch 34/50\n",
      "40/40 [==============================] - 34s 839ms/step\n",
      "\n",
      " Epoch 35/50\n",
      "40/40 [==============================] - 34s 839ms/step\n",
      "\n",
      " Epoch 36/50\n",
      "40/40 [==============================] - 33s 835ms/step\n",
      "\n",
      " Epoch 37/50\n",
      "40/40 [==============================] - 33s 828ms/step\n",
      "\n",
      " Epoch 38/50\n",
      "40/40 [==============================] - 35s 866ms/step\n",
      "\n",
      " Epoch 39/50\n",
      "40/40 [==============================] - 35s 871ms/step\n",
      "\n",
      " Epoch 40/50\n",
      "40/40 [==============================] - 35s 870ms/step\n",
      "\n",
      " Epoch 41/50\n",
      "40/40 [==============================] - 35s 873ms/step\n",
      "\n",
      " Epoch 42/50\n",
      "40/40 [==============================] - 35s 866ms/step\n",
      "\n",
      " Epoch 43/50\n",
      "40/40 [==============================] - 35s 872ms/step\n",
      "\n",
      " Epoch 44/50\n",
      "40/40 [==============================] - 34s 858ms/step\n",
      "\n",
      " Epoch 45/50\n",
      "40/40 [==============================] - 33s 836ms/step\n",
      "\n",
      " Epoch 46/50\n",
      "40/40 [==============================] - 35s 869ms/step\n",
      "\n",
      " Epoch 47/50\n",
      "40/40 [==============================] - 34s 853ms/step\n",
      "\n",
      " Epoch 48/50\n",
      "40/40 [==============================] - 34s 834ms/step\n",
      "\n",
      " Epoch 49/50\n",
      "40/40 [==============================] - 34s 840ms/step\n",
      "\n",
      " Epoch 50/50\n",
      "40/40 [==============================] - 33s 830ms/step\n"
     ]
    }
   ],
   "source": [
    "train(train_data, 50)"
   ]
  },
  {
   "cell_type": "code",
   "execution_count": 66,
   "id": "9f88df19-4a0f-4a2c-93cb-29bdd300961c",
   "metadata": {},
   "outputs": [],
   "source": [
    "from tensorflow.keras.metrics import Precision, Recall"
   ]
  },
  {
   "cell_type": "code",
   "execution_count": 67,
   "id": "02cad1e8-9607-48e9-9920-19c7441bee69",
   "metadata": {},
   "outputs": [],
   "source": [
    "test_input,test_val,y_true = test_data.as_numpy_iterator().next()"
   ]
  },
  {
   "cell_type": "code",
   "execution_count": 68,
   "id": "3fa3b5c4-e19e-481a-a414-519372b0470b",
   "metadata": {},
   "outputs": [],
   "source": [
    "test_var=test_data.as_numpy_iterator().next()"
   ]
  },
  {
   "cell_type": "code",
   "execution_count": 69,
   "id": "5c611d0a-d0f2-4f2a-8a6a-856f5c28d085",
   "metadata": {},
   "outputs": [
    {
     "name": "stdout",
     "output_type": "stream",
     "text": [
      "1/1 [==============================] - 2s 2s/step\n"
     ]
    },
    {
     "data": {
      "text/plain": [
       "array([[4.8639907e-12],\n",
       "       [9.9971056e-01],\n",
       "       [3.1161330e-15],\n",
       "       [2.6317647e-16],\n",
       "       [2.1564957e-14],\n",
       "       [9.9999666e-01],\n",
       "       [1.2355824e-18],\n",
       "       [1.6708384e-21],\n",
       "       [9.9992394e-01],\n",
       "       [4.8269185e-13],\n",
       "       [9.9997503e-01],\n",
       "       [4.2296526e-22],\n",
       "       [1.0000000e+00],\n",
       "       [3.1120899e-14],\n",
       "       [1.0000000e+00],\n",
       "       [9.9999988e-01]], dtype=float32)"
      ]
     },
     "execution_count": 69,
     "metadata": {},
     "output_type": "execute_result"
    }
   ],
   "source": [
    "y_hat = siamese_model.predict([test_input,test_val])\n",
    "y_hat"
   ]
  },
  {
   "cell_type": "markdown",
   "id": "3475c6e0-bfaa-4bcd-b4ec-f1bcf1d279f5",
   "metadata": {},
   "source": [
    "# Saving the model"
   ]
  },
  {
   "cell_type": "code",
   "execution_count": 86,
   "id": "998f9291-812a-4c65-aa31-5017ebdf80ea",
   "metadata": {},
   "outputs": [
    {
     "name": "stderr",
     "output_type": "stream",
     "text": [
      "C:\\Users\\lenovo\\anaconda3\\Lib\\site-packages\\keras\\src\\engine\\training.py:3103: UserWarning: You are saving your model as an HDF5 file via `model.save()`. This file format is considered legacy. We recommend using instead the native Keras format, e.g. `model.save('my_model.keras')`.\n",
      "  saving_api.save_model(\n"
     ]
    },
    {
     "name": "stdout",
     "output_type": "stream",
     "text": [
      "WARNING:tensorflow:Compiled the loaded model, but the compiled metrics have yet to be built. `model.compile_metrics` will be empty until you train or evaluate the model.\n"
     ]
    }
   ],
   "source": [
    "recognition_model.save('facialverification.h5')"
   ]
  },
  {
   "cell_type": "code",
   "execution_count": 87,
   "id": "1f558983-aa7b-438e-afc1-1d09982e6799",
   "metadata": {},
   "outputs": [
    {
     "name": "stdout",
     "output_type": "stream",
     "text": [
      "WARNING:tensorflow:No training configuration found in the save file, so the model was *not* compiled. Compile it manually.\n"
     ]
    }
   ],
   "source": [
    "model =tf.keras.models.load_model('facialverification.h5',custom_objects={'Dist_Layer':Dist_Layer,'BinaryCrossentropy':tf.losses.BinaryCrossentropy})"
   ]
  },
  {
   "cell_type": "code",
   "execution_count": 88,
   "id": "ebb2c4f8-4420-45cc-80b4-4a4dcc96d5eb",
   "metadata": {},
   "outputs": [
    {
     "name": "stdout",
     "output_type": "stream",
     "text": [
      "1/1 [==============================] - 6s 6s/step\n"
     ]
    },
    {
     "data": {
      "text/plain": [
       "array([[4.1834438e-27],\n",
       "       [9.9936414e-01],\n",
       "       [7.2150219e-16],\n",
       "       [8.4781229e-23],\n",
       "       [1.0825421e-21],\n",
       "       [9.9999464e-01],\n",
       "       [3.1787411e-25],\n",
       "       [1.4926790e-05],\n",
       "       [9.9997443e-01],\n",
       "       [3.3870642e-14],\n",
       "       [9.9955869e-01],\n",
       "       [1.3622645e-27],\n",
       "       [9.9992347e-01],\n",
       "       [5.3141441e-15],\n",
       "       [1.0000000e+00],\n",
       "       [9.9996179e-01]], dtype=float32)"
      ]
     },
     "execution_count": 88,
     "metadata": {},
     "output_type": "execute_result"
    }
   ],
   "source": [
    "model.predict([test_input,test_val])"
   ]
  },
  {
   "cell_type": "code",
   "execution_count": 89,
   "id": "aff95ae5-509b-40e0-9c45-5579bc00987b",
   "metadata": {},
   "outputs": [],
   "source": [
    "valid_path = os.path.join('application_data','verification_images')"
   ]
  },
  {
   "cell_type": "code",
   "execution_count": 97,
   "id": "04d061c8-9d11-4c3e-8cff-63364d59bb08",
   "metadata": {},
   "outputs": [],
   "source": [
    "def verify(model,detection_threshold,verification_threshold):\n",
    "    results = []\n",
    "    for image in os.listdir(os.path.join('application_data','verification_images')):\n",
    "        input_img= preprocess(os.path.join('application_data','input_images','input_image.jpg'))\n",
    "        validation_img = preprocess(os.path.join('application_data','verification_images',image))\n",
    "        result = model.predict(list(np.expand_dims([input_img,validation_img],axis =1)))\n",
    "        results.append(result)\n",
    "        detection = np.sum(np.array(results)>detection_threshold)\n",
    "        verification = detection/len(os.listdir(os.path.join('application_data','verification_images')))\n",
    "        verified = verification>verification_threshold\n",
    "    return results, verified"
   ]
  },
  {
   "cell_type": "markdown",
   "id": "c6868c1b-b489-4460-953e-684318ae861f",
   "metadata": {},
   "source": [
    "# Real Time testing"
   ]
  },
  {
   "cell_type": "code",
   "execution_count": null,
   "id": "04308ef1-a260-4ac4-9be9-841f6734a51e",
   "metadata": {},
   "outputs": [
    {
     "name": "stdout",
     "output_type": "stream",
     "text": [
      "1/1 [==============================] - 0s 84ms/step\n",
      "1/1 [==============================] - 0s 59ms/step\n",
      "1/1 [==============================] - 0s 57ms/step\n",
      "1/1 [==============================] - 0s 163ms/step\n",
      "1/1 [==============================] - 0s 61ms/step\n",
      "1/1 [==============================] - 0s 58ms/step\n",
      "1/1 [==============================] - 0s 53ms/step\n",
      "1/1 [==============================] - 0s 70ms/step\n",
      "1/1 [==============================] - 0s 61ms/step\n",
      "1/1 [==============================] - 0s 75ms/step\n",
      "1/1 [==============================] - 0s 61ms/step\n",
      "1/1 [==============================] - 0s 54ms/step\n",
      "1/1 [==============================] - 0s 48ms/step\n",
      "1/1 [==============================] - 0s 61ms/step\n",
      "1/1 [==============================] - 0s 55ms/step\n",
      "1/1 [==============================] - 0s 53ms/step\n",
      "1/1 [==============================] - 0s 57ms/step\n",
      "1/1 [==============================] - 0s 201ms/step\n",
      "1/1 [==============================] - 0s 59ms/step\n",
      "1/1 [==============================] - 0s 64ms/step\n",
      "1/1 [==============================] - 0s 50ms/step\n",
      "1/1 [==============================] - 0s 65ms/step\n",
      "1/1 [==============================] - 0s 58ms/step\n",
      "1/1 [==============================] - 0s 66ms/step\n",
      "1/1 [==============================] - 0s 60ms/step\n",
      "1/1 [==============================] - 0s 60ms/step\n",
      "1/1 [==============================] - 0s 72ms/step\n",
      "1/1 [==============================] - 0s 68ms/step\n",
      "1/1 [==============================] - 0s 49ms/step\n",
      "1/1 [==============================] - 0s 56ms/step\n",
      "1/1 [==============================] - 0s 87ms/step\n",
      "1/1 [==============================] - 0s 60ms/step\n",
      "1/1 [==============================] - 0s 59ms/step\n",
      "1/1 [==============================] - 0s 50ms/step\n",
      "1/1 [==============================] - 0s 64ms/step\n",
      "1/1 [==============================] - 0s 69ms/step\n",
      "1/1 [==============================] - 0s 69ms/step\n",
      "1/1 [==============================] - 0s 152ms/step\n",
      "1/1 [==============================] - 0s 56ms/step\n",
      "1/1 [==============================] - 0s 57ms/step\n",
      "1/1 [==============================] - 0s 66ms/step\n",
      "1/1 [==============================] - 0s 53ms/step\n",
      "1/1 [==============================] - 0s 48ms/step\n",
      "1/1 [==============================] - 0s 48ms/step\n",
      "1/1 [==============================] - 0s 51ms/step\n",
      "1/1 [==============================] - 0s 63ms/step\n",
      "1/1 [==============================] - 0s 61ms/step\n",
      "1/1 [==============================] - 0s 61ms/step\n",
      "1/1 [==============================] - 0s 65ms/step\n",
      "1/1 [==============================] - 0s 53ms/step\n",
      "1/1 [==============================] - 0s 57ms/step\n",
      "1/1 [==============================] - 0s 159ms/step\n",
      "1/1 [==============================] - 0s 60ms/step\n",
      "1/1 [==============================] - 0s 66ms/step\n",
      "1/1 [==============================] - 0s 61ms/step\n",
      "1/1 [==============================] - 0s 58ms/step\n",
      "1/1 [==============================] - 0s 60ms/step\n",
      "1/1 [==============================] - 0s 62ms/step\n",
      "1/1 [==============================] - 0s 66ms/step\n",
      "1/1 [==============================] - 0s 64ms/step\n",
      "1/1 [==============================] - 0s 63ms/step\n",
      "1/1 [==============================] - 0s 61ms/step\n",
      "1/1 [==============================] - 0s 56ms/step\n",
      "1/1 [==============================] - 0s 58ms/step\n",
      "1/1 [==============================] - 0s 61ms/step\n",
      "1/1 [==============================] - 0s 55ms/step\n",
      "1/1 [==============================] - 0s 52ms/step\n",
      "1/1 [==============================] - 0s 64ms/step\n",
      "1/1 [==============================] - 0s 65ms/step\n",
      "1/1 [==============================] - 0s 60ms/step\n",
      "1/1 [==============================] - 0s 60ms/step\n",
      "1/1 [==============================] - 0s 66ms/step\n",
      "1/1 [==============================] - 0s 59ms/step\n",
      "1/1 [==============================] - 0s 55ms/step\n",
      "1/1 [==============================] - 0s 65ms/step\n",
      "1/1 [==============================] - 0s 58ms/step\n",
      "1/1 [==============================] - 0s 61ms/step\n",
      "1/1 [==============================] - 0s 52ms/step\n",
      "1/1 [==============================] - 0s 58ms/step\n",
      "1/1 [==============================] - 0s 65ms/step\n",
      "1/1 [==============================] - 0s 63ms/step\n",
      "1/1 [==============================] - 0s 63ms/step\n",
      "1/1 [==============================] - 0s 50ms/step\n",
      "1/1 [==============================] - 0s 54ms/step\n",
      "1/1 [==============================] - 0s 64ms/step\n",
      "1/1 [==============================] - 0s 58ms/step\n",
      "1/1 [==============================] - 0s 60ms/step\n",
      "1/1 [==============================] - 0s 54ms/step\n",
      "1/1 [==============================] - 0s 60ms/step\n",
      "1/1 [==============================] - 0s 59ms/step\n",
      "1/1 [==============================] - 0s 64ms/step\n",
      "1/1 [==============================] - 0s 66ms/step\n",
      "1/1 [==============================] - 0s 58ms/step\n",
      "1/1 [==============================] - 0s 54ms/step\n",
      "1/1 [==============================] - 0s 63ms/step\n",
      "1/1 [==============================] - 0s 62ms/step\n",
      "True\n",
      ". \n",
      "Face verified\n",
      "1/1 [==============================] - 0s 67ms/step\n",
      "1/1 [==============================] - 0s 58ms/step\n",
      "1/1 [==============================] - 0s 51ms/step\n",
      "1/1 [==============================] - 0s 60ms/step\n",
      "1/1 [==============================] - 0s 61ms/step\n",
      "1/1 [==============================] - 0s 165ms/step\n",
      "1/1 [==============================] - 0s 68ms/step\n",
      "1/1 [==============================] - 0s 67ms/step\n",
      "1/1 [==============================] - 0s 59ms/step\n",
      "1/1 [==============================] - 0s 55ms/step\n",
      "1/1 [==============================] - 0s 58ms/step\n",
      "1/1 [==============================] - 0s 58ms/step\n",
      "1/1 [==============================] - 0s 53ms/step\n",
      "1/1 [==============================] - 0s 59ms/step\n",
      "1/1 [==============================] - 0s 180ms/step\n",
      "1/1 [==============================] - 0s 97ms/step\n",
      "1/1 [==============================] - 0s 64ms/step\n",
      "1/1 [==============================] - 0s 59ms/step\n",
      "1/1 [==============================] - 0s 66ms/step\n",
      "1/1 [==============================] - 0s 62ms/step\n",
      "1/1 [==============================] - 0s 68ms/step\n",
      "1/1 [==============================] - 0s 163ms/step\n",
      "1/1 [==============================] - 0s 62ms/step\n",
      "1/1 [==============================] - 0s 63ms/step\n",
      "1/1 [==============================] - 0s 67ms/step\n",
      "1/1 [==============================] - 0s 70ms/step\n",
      "1/1 [==============================] - 0s 72ms/step\n",
      "1/1 [==============================] - 0s 64ms/step\n",
      "1/1 [==============================] - 0s 57ms/step\n",
      "1/1 [==============================] - 0s 62ms/step\n",
      "1/1 [==============================] - 0s 60ms/step\n",
      "1/1 [==============================] - 0s 60ms/step\n",
      "1/1 [==============================] - 0s 56ms/step\n",
      "1/1 [==============================] - 0s 59ms/step\n",
      "1/1 [==============================] - 0s 62ms/step\n",
      "1/1 [==============================] - 0s 62ms/step\n",
      "1/1 [==============================] - 0s 60ms/step\n",
      "1/1 [==============================] - 0s 65ms/step\n",
      "1/1 [==============================] - 0s 60ms/step\n",
      "1/1 [==============================] - 0s 59ms/step\n",
      "1/1 [==============================] - 0s 62ms/step\n",
      "1/1 [==============================] - 0s 55ms/step\n",
      "1/1 [==============================] - 0s 62ms/step\n",
      "1/1 [==============================] - 0s 65ms/step\n",
      "1/1 [==============================] - 0s 67ms/step\n",
      "1/1 [==============================] - 0s 67ms/step\n",
      "1/1 [==============================] - 0s 65ms/step\n",
      "1/1 [==============================] - 0s 66ms/step\n",
      "1/1 [==============================] - 0s 56ms/step\n",
      "1/1 [==============================] - 0s 50ms/step\n",
      "1/1 [==============================] - 0s 59ms/step\n",
      "1/1 [==============================] - 0s 61ms/step\n",
      "1/1 [==============================] - 0s 69ms/step\n",
      "1/1 [==============================] - 0s 51ms/step\n",
      "1/1 [==============================] - 0s 64ms/step\n",
      "1/1 [==============================] - 0s 58ms/step\n",
      "1/1 [==============================] - 0s 58ms/step\n",
      "1/1 [==============================] - 0s 62ms/step\n",
      "1/1 [==============================] - 0s 63ms/step\n",
      "1/1 [==============================] - 0s 66ms/step\n",
      "1/1 [==============================] - 0s 60ms/step\n",
      "1/1 [==============================] - 0s 57ms/step\n",
      "1/1 [==============================] - 0s 50ms/step\n",
      "1/1 [==============================] - 0s 52ms/step\n",
      "1/1 [==============================] - 0s 55ms/step\n",
      "1/1 [==============================] - 0s 50ms/step\n",
      "1/1 [==============================] - 0s 57ms/step\n",
      "1/1 [==============================] - 0s 172ms/step\n",
      "1/1 [==============================] - 0s 62ms/step\n",
      "1/1 [==============================] - 0s 61ms/step\n",
      "1/1 [==============================] - 0s 58ms/step\n",
      "1/1 [==============================] - 0s 73ms/step\n",
      "1/1 [==============================] - 0s 57ms/step\n",
      "1/1 [==============================] - 0s 62ms/step\n",
      "1/1 [==============================] - 0s 62ms/step\n",
      "1/1 [==============================] - 0s 54ms/step\n",
      "1/1 [==============================] - 0s 58ms/step\n",
      "1/1 [==============================] - 0s 169ms/step\n",
      "1/1 [==============================] - 0s 61ms/step\n",
      "1/1 [==============================] - 0s 61ms/step\n",
      "1/1 [==============================] - 0s 71ms/step\n",
      "1/1 [==============================] - 0s 51ms/step\n",
      "1/1 [==============================] - 0s 59ms/step\n",
      "1/1 [==============================] - 0s 63ms/step\n",
      "1/1 [==============================] - 0s 54ms/step\n",
      "1/1 [==============================] - 0s 57ms/step\n",
      "1/1 [==============================] - 0s 65ms/step\n",
      "1/1 [==============================] - 0s 58ms/step\n",
      "1/1 [==============================] - 0s 59ms/step\n",
      "1/1 [==============================] - 0s 64ms/step\n",
      "1/1 [==============================] - 0s 61ms/step\n",
      "1/1 [==============================] - 0s 51ms/step\n",
      "1/1 [==============================] - 0s 65ms/step\n",
      "1/1 [==============================] - 0s 54ms/step\n",
      "1/1 [==============================] - 0s 65ms/step\n",
      "1/1 [==============================] - 0s 177ms/step\n",
      "False\n",
      ". \n",
      "Not verified\n",
      "1/1 [==============================] - 0s 62ms/step\n",
      "1/1 [==============================] - 0s 68ms/step\n",
      "1/1 [==============================] - 0s 62ms/step\n",
      "1/1 [==============================] - 0s 61ms/step\n",
      "1/1 [==============================] - 0s 54ms/step\n",
      "1/1 [==============================] - 0s 53ms/step\n",
      "1/1 [==============================] - 0s 67ms/step\n",
      "1/1 [==============================] - 0s 64ms/step\n",
      "1/1 [==============================] - 0s 61ms/step\n",
      "1/1 [==============================] - 0s 53ms/step\n",
      "1/1 [==============================] - 0s 64ms/step\n",
      "1/1 [==============================] - 0s 63ms/step\n",
      "1/1 [==============================] - 0s 61ms/step\n",
      "1/1 [==============================] - 0s 67ms/step\n",
      "1/1 [==============================] - 0s 63ms/step\n",
      "1/1 [==============================] - 0s 61ms/step\n",
      "1/1 [==============================] - 0s 59ms/step\n",
      "1/1 [==============================] - 0s 164ms/step\n",
      "1/1 [==============================] - 0s 57ms/step\n",
      "1/1 [==============================] - 0s 65ms/step\n",
      "1/1 [==============================] - 0s 62ms/step\n",
      "1/1 [==============================] - 0s 68ms/step\n",
      "1/1 [==============================] - 0s 62ms/step\n",
      "1/1 [==============================] - 0s 63ms/step\n",
      "1/1 [==============================] - 0s 54ms/step\n",
      "1/1 [==============================] - 0s 52ms/step\n",
      "1/1 [==============================] - 0s 63ms/step\n",
      "1/1 [==============================] - 0s 71ms/step\n",
      "1/1 [==============================] - 0s 57ms/step\n",
      "1/1 [==============================] - 0s 61ms/step\n",
      "1/1 [==============================] - 0s 65ms/step\n",
      "1/1 [==============================] - 0s 61ms/step\n",
      "1/1 [==============================] - 0s 64ms/step\n",
      "1/1 [==============================] - 0s 70ms/step\n",
      "1/1 [==============================] - 0s 71ms/step\n",
      "1/1 [==============================] - 0s 57ms/step\n",
      "1/1 [==============================] - 0s 57ms/step\n",
      "1/1 [==============================] - 0s 63ms/step\n",
      "1/1 [==============================] - 0s 61ms/step\n",
      "1/1 [==============================] - 0s 58ms/step\n",
      "1/1 [==============================] - 0s 66ms/step\n",
      "1/1 [==============================] - 0s 156ms/step\n",
      "1/1 [==============================] - 0s 60ms/step\n",
      "1/1 [==============================] - 0s 54ms/step\n",
      "1/1 [==============================] - 0s 55ms/step\n",
      "1/1 [==============================] - 0s 62ms/step\n",
      "1/1 [==============================] - 0s 59ms/step\n",
      "1/1 [==============================] - 0s 55ms/step\n",
      "1/1 [==============================] - 0s 61ms/step\n",
      "1/1 [==============================] - 0s 63ms/step\n",
      "1/1 [==============================] - 0s 62ms/step\n",
      "1/1 [==============================] - 0s 163ms/step\n",
      "1/1 [==============================] - 0s 160ms/step\n",
      "1/1 [==============================] - 0s 71ms/step\n",
      "1/1 [==============================] - 0s 64ms/step\n",
      "1/1 [==============================] - 0s 62ms/step\n",
      "1/1 [==============================] - 0s 62ms/step\n",
      "1/1 [==============================] - 0s 57ms/step\n",
      "1/1 [==============================] - 0s 60ms/step\n",
      "1/1 [==============================] - 0s 57ms/step\n",
      "1/1 [==============================] - 0s 173ms/step\n",
      "1/1 [==============================] - 0s 52ms/step\n",
      "1/1 [==============================] - 0s 63ms/step\n",
      "1/1 [==============================] - 0s 53ms/step\n",
      "1/1 [==============================] - 0s 63ms/step\n",
      "1/1 [==============================] - 0s 62ms/step\n",
      "1/1 [==============================] - 0s 65ms/step\n",
      "1/1 [==============================] - 0s 61ms/step\n",
      "1/1 [==============================] - 0s 60ms/step\n",
      "1/1 [==============================] - 0s 63ms/step\n",
      "1/1 [==============================] - 0s 55ms/step\n",
      "1/1 [==============================] - 0s 69ms/step\n",
      "1/1 [==============================] - 0s 57ms/step\n",
      "1/1 [==============================] - 0s 57ms/step\n",
      "1/1 [==============================] - 0s 64ms/step\n",
      "1/1 [==============================] - 0s 65ms/step\n",
      "1/1 [==============================] - 0s 56ms/step\n",
      "1/1 [==============================] - 0s 59ms/step\n",
      "1/1 [==============================] - 0s 66ms/step\n",
      "1/1 [==============================] - 0s 63ms/step\n",
      "1/1 [==============================] - 0s 60ms/step\n",
      "1/1 [==============================] - 0s 64ms/step\n",
      "1/1 [==============================] - 0s 49ms/step\n",
      "1/1 [==============================] - 0s 67ms/step\n",
      "1/1 [==============================] - 0s 61ms/step\n",
      "1/1 [==============================] - 0s 72ms/step\n",
      "1/1 [==============================] - 0s 80ms/step\n",
      "1/1 [==============================] - 0s 59ms/step\n",
      "1/1 [==============================] - 0s 61ms/step\n",
      "1/1 [==============================] - 0s 66ms/step\n",
      "1/1 [==============================] - 0s 58ms/step\n",
      "1/1 [==============================] - 0s 67ms/step\n",
      "1/1 [==============================] - 0s 74ms/step\n",
      "1/1 [==============================] - 0s 63ms/step\n",
      "1/1 [==============================] - 0s 69ms/step\n",
      "1/1 [==============================] - 0s 56ms/step\n",
      "True\n",
      ". \n",
      "Face verified\n",
      "1/1 [==============================] - 0s 57ms/step\n",
      "1/1 [==============================] - 0s 53ms/step\n",
      "1/1 [==============================] - 0s 58ms/step\n",
      "1/1 [==============================] - 0s 72ms/step\n",
      "1/1 [==============================] - 0s 53ms/step\n",
      "1/1 [==============================] - 0s 66ms/step\n",
      "1/1 [==============================] - 0s 47ms/step\n",
      "1/1 [==============================] - 0s 56ms/step\n",
      "1/1 [==============================] - 0s 58ms/step\n",
      "1/1 [==============================] - 0s 63ms/step\n",
      "1/1 [==============================] - 0s 64ms/step\n",
      "1/1 [==============================] - 0s 63ms/step\n",
      "1/1 [==============================] - 0s 60ms/step\n",
      "1/1 [==============================] - 0s 58ms/step\n",
      "1/1 [==============================] - 0s 65ms/step\n",
      "1/1 [==============================] - 0s 50ms/step\n",
      "1/1 [==============================] - 0s 52ms/step\n",
      "1/1 [==============================] - 0s 53ms/step\n",
      "1/1 [==============================] - 0s 53ms/step\n",
      "1/1 [==============================] - 0s 53ms/step\n",
      "1/1 [==============================] - 0s 60ms/step\n",
      "1/1 [==============================] - 0s 69ms/step\n",
      "1/1 [==============================] - 0s 63ms/step\n",
      "1/1 [==============================] - 0s 70ms/step\n",
      "1/1 [==============================] - 0s 92ms/step\n",
      "1/1 [==============================] - 0s 67ms/step\n",
      "1/1 [==============================] - 0s 60ms/step\n",
      "1/1 [==============================] - 0s 67ms/step\n",
      "1/1 [==============================] - 0s 69ms/step\n",
      "1/1 [==============================] - 0s 69ms/step\n",
      "1/1 [==============================] - 0s 70ms/step\n",
      "1/1 [==============================] - 0s 70ms/step\n",
      "1/1 [==============================] - 0s 118ms/step\n",
      "1/1 [==============================] - 0s 65ms/step\n",
      "1/1 [==============================] - 0s 71ms/step\n",
      "1/1 [==============================] - 0s 59ms/step\n",
      "1/1 [==============================] - 0s 57ms/step\n",
      "1/1 [==============================] - 0s 57ms/step\n",
      "1/1 [==============================] - 0s 52ms/step\n",
      "1/1 [==============================] - 0s 52ms/step\n",
      "1/1 [==============================] - 0s 72ms/step\n",
      "1/1 [==============================] - 0s 53ms/step\n",
      "1/1 [==============================] - 0s 67ms/step\n",
      "1/1 [==============================] - 0s 68ms/step\n",
      "1/1 [==============================] - 0s 56ms/step\n",
      "1/1 [==============================] - 0s 60ms/step\n",
      "1/1 [==============================] - 0s 55ms/step\n",
      "1/1 [==============================] - 0s 59ms/step\n",
      "1/1 [==============================] - 0s 62ms/step\n",
      "1/1 [==============================] - 0s 60ms/step\n",
      "1/1 [==============================] - 0s 70ms/step\n",
      "1/1 [==============================] - 0s 58ms/step\n",
      "1/1 [==============================] - 0s 67ms/step\n",
      "1/1 [==============================] - 0s 60ms/step\n",
      "1/1 [==============================] - 0s 72ms/step\n",
      "1/1 [==============================] - 0s 60ms/step\n",
      "1/1 [==============================] - 0s 57ms/step\n",
      "1/1 [==============================] - 0s 52ms/step\n",
      "1/1 [==============================] - 0s 56ms/step\n",
      "1/1 [==============================] - 0s 55ms/step\n",
      "1/1 [==============================] - 0s 48ms/step\n",
      "1/1 [==============================] - 0s 67ms/step\n",
      "1/1 [==============================] - 0s 60ms/step\n",
      "1/1 [==============================] - 0s 53ms/step\n",
      "1/1 [==============================] - 0s 59ms/step\n",
      "1/1 [==============================] - 0s 88ms/step\n",
      "1/1 [==============================] - 0s 56ms/step\n",
      "1/1 [==============================] - 0s 61ms/step\n",
      "1/1 [==============================] - 0s 58ms/step\n",
      "1/1 [==============================] - 0s 54ms/step\n",
      "1/1 [==============================] - 0s 57ms/step\n",
      "1/1 [==============================] - 0s 118ms/step\n",
      "1/1 [==============================] - 0s 91ms/step\n",
      "1/1 [==============================] - 0s 166ms/step\n",
      "1/1 [==============================] - 0s 69ms/step\n",
      "1/1 [==============================] - 0s 60ms/step\n",
      "1/1 [==============================] - 0s 58ms/step\n",
      "1/1 [==============================] - 0s 54ms/step\n",
      "1/1 [==============================] - 0s 62ms/step\n",
      "1/1 [==============================] - 0s 52ms/step\n",
      "1/1 [==============================] - 0s 55ms/step\n",
      "1/1 [==============================] - 0s 57ms/step\n",
      "1/1 [==============================] - 0s 64ms/step\n",
      "1/1 [==============================] - 0s 67ms/step\n",
      "1/1 [==============================] - 0s 61ms/step\n",
      "1/1 [==============================] - 0s 54ms/step\n",
      "1/1 [==============================] - 0s 57ms/step\n",
      "1/1 [==============================] - 0s 55ms/step\n",
      "1/1 [==============================] - 0s 52ms/step\n",
      "1/1 [==============================] - 0s 62ms/step\n",
      "1/1 [==============================] - 0s 58ms/step\n",
      "1/1 [==============================] - 0s 66ms/step\n",
      "1/1 [==============================] - 0s 63ms/step\n",
      "1/1 [==============================] - 0s 64ms/step\n",
      "1/1 [==============================] - 0s 62ms/step\n",
      "1/1 [==============================] - 0s 62ms/step\n",
      "False\n",
      ". \n",
      "Not verified\n"
     ]
    }
   ],
   "source": [
    "from matplotlib.pyplot import imshow\n",
    "cap =cv2.VideoCapture(0)\n",
    "while cap.isOpened():\n",
    "    ret,frame =cap.read()\n",
    "    frame = frame[120:120+250,320:320+250,:]\n",
    "    cv2.imshow('verification',frame)\n",
    "    if cv2.waitKey(10) & 0xFF==ord('v'):\n",
    "        cv2.imwrite(os.path.join('application_data','input_images','input_image.jpg'),frame)\n",
    "        imshow(frame)\n",
    "        results,verified = verify(model,0.9,0.7)\n",
    "        print(verified)\n",
    "        print('. ')\n",
    "        if (verified == True):\n",
    "            print('Face verified')\n",
    "        else:\n",
    "            print('Not verified')\n",
    "    if cv2.waitKey(10) & 0xFF==ord('q'):\n",
    "        break\n",
    "cap.release()\n",
    "cv2.destroyAllWindows()"
   ]
  },
  {
   "cell_type": "code",
   "execution_count": null,
   "id": "3182abab-7a2a-4ec9-9deb-60e9cd536543",
   "metadata": {},
   "outputs": [],
   "source": []
  }
 ],
 "metadata": {
  "kernelspec": {
   "display_name": "Python 3 (ipykernel)",
   "language": "python",
   "name": "python3"
  },
  "language_info": {
   "codemirror_mode": {
    "name": "ipython",
    "version": 3
   },
   "file_extension": ".py",
   "mimetype": "text/x-python",
   "name": "python",
   "nbconvert_exporter": "python",
   "pygments_lexer": "ipython3",
   "version": "3.11.5"
  }
 },
 "nbformat": 4,
 "nbformat_minor": 5
}
